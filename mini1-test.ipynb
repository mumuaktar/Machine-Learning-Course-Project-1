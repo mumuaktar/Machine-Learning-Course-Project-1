{
 "cells": [
  {
   "cell_type": "code",
   "execution_count": 260,
   "metadata": {},
   "outputs": [],
   "source": [
    "import json\n",
    "import numpy as np\n",
    "import matplotlib.pyplot as plt\n",
    "import time"
   ]
  },
  {
   "cell_type": "code",
   "execution_count": 261,
   "metadata": {},
   "outputs": [],
   "source": [
    "with open(\"proj1_data.json\") as fp:\n",
    "    data = json.load(fp)\n",
    "\n",
    "# Now the data is loaded.\n",
    "# It a list of data points, where each datapoint is a dictionary with the following attributes:\n",
    "# popularity_score : a popularity score for this comment (based on the number of upvotes) (type: float)\n",
    "# children : the number of replies to this comment (type: int)\n",
    "# text : the text of this comment (type: string)\n",
    "# controversiality : a score for how \"controversial\" this comment is (automatically computed by Reddit)\n",
    "# is_root : if True, then this comment is a direct reply to a post; if False, this is a direct reply to another comment "
   ]
  },
  {
   "cell_type": "code",
   "execution_count": 262,
   "metadata": {
    "scrolled": true
   },
   "outputs": [
    {
     "name": "stdout",
     "output_type": "stream",
     "text": [
      "text : \"It's days like this that make me wish I'd listened to what my mother always told me when I was a kid.\"\n",
      "\n",
      "\"Why, what did she say?\"\n",
      "\n",
      "\"I don't know. I didn't listen.\"\n",
      "is_root : False\n",
      "controversiality : 0\n",
      "children : 0\n",
      "popularity_score : 1.7198436079795936\n"
     ]
    }
   ],
   "source": [
    "# Example:\n",
    "data_point = data[1009] # select the first data point in the dataset\n",
    "\n",
    "# Now we print all the information about this datapoint\n",
    "for name, value in data_point.items():\n",
    "    print(name + \" : \" + str(value))"
   ]
  },
  {
   "cell_type": "code",
   "execution_count": 263,
   "metadata": {},
   "outputs": [
    {
     "name": "stdout",
     "output_type": "stream",
     "text": [
      "Number of training data points: 10000\n",
      "Number of evaluation data points: 1000\n",
      "Number of test data points: 1000\n"
     ]
    }
   ],
   "source": [
    "# Splitting data into partitions\n",
    "\n",
    "no_data_point = 12000\n",
    "training_data_points = 10000\n",
    "validation_data_points = 1000\n",
    "test_data_points = 1000\n",
    "\n",
    "train_data = data[ : training_data_points]\n",
    "validation_data = data[training_data_points : (training_data_points + validation_data_points)]\n",
    "test_data = data[(training_data_points + validation_data_points) : no_data_point]\n",
    "\n",
    "print(\"Number of training data points: \" + str(len(train_data)))\n",
    "print(\"Number of evaluation data points: \" + str(len(validation_data)))\n",
    "print(\"Number of test data points: \" + str(len(test_data)))"
   ]
  },
  {
   "cell_type": "code",
   "execution_count": 264,
   "metadata": {},
   "outputs": [],
   "source": [
    "# Weight vector initialization\n",
    "def weights_init(m, key):\n",
    "    # key = True => zero initialization\n",
    "    # key = False => Random initialization\n",
    "    if key:\n",
    "        w = np.zeros((m,1))\n",
    "    else:\n",
    "        w = np.random.randi(m,1)\n",
    "    \n",
    "    return w"
   ]
  },
  {
   "cell_type": "code",
   "execution_count": 265,
   "metadata": {},
   "outputs": [],
   "source": [
    "# Text pre-processing \n",
    "\n",
    "def text_prep(text):\n",
    "    punctuations_list = '!-[]{};\\,<>/\"?#$%^&*_~+' + '\\n\\n'\n",
    "    output_text = \"\"\n",
    "    text = text.strip()\n",
    "    \n",
    "    for ch in text:\n",
    "        if ch not in punctuations_list:\n",
    "            output_text = output_text + ch\n",
    "    \n",
    "    output_text = output_text.lower()\n",
    "    prep_text = output_text.split(\" \")\n",
    "    prep_text = list(filter(None,prep_text))\n",
    "    \n",
    "    return prep_text"
   ]
  },
  {
   "cell_type": "code",
   "execution_count": 326,
   "metadata": {},
   "outputs": [],
   "source": [
    "# Most-frequent word count features for the whole Training set\n",
    "def Feature_Matrix(dataset, no_txt_features):\n",
    "    \n",
    "    offensive_words_list=['shit','fuck','fucking','bitch','damn','sex','ass','hell',\n",
    "         'hot','dick','shitty','fucked','asshole','bullshit','gay','porn','crap','sucks']\n",
    "    \n",
    "    positive_sentiments_list = ['like', 'really', 'good', 'please', 'love', 'pretty', 'best', \n",
    "                                'better', 'great', 'movie', 'happy', 'watching', 'nice', 'fun', \n",
    "                                'thanks', 'thank', 'funny', 'cool', 'thankfully', 'super', 'enjoy', \n",
    "                                'awesome' , 'wow', 'amazing', 'interesting', 'loved’, ‘liked', 'perfect',\n",
    "                                'fan', 'glad', 'haha', 'fans', 'hilarious', 'popular', 'fair', 'special', \n",
    "                                'beautiful', ':d', ':)', '=d']\n",
    "    \n",
    "    negative_sentiments_list = ['bad', 'hate', 'wrong', 'lost', 'damn', 'hell', 'sorry', 'dead', 'weird', 'shitty',\n",
    "                                'worst', 'terrible', 'worse', 'sad', 'seeing', 'die', 'death', 'died', 'kill', 'poor',\n",
    "                                'breaking', 'horrible', ':(', '=(']\n",
    "    \n",
    "    N = len(dataset)\n",
    "    All_comments = [None] * N\n",
    "    Words_Dict = {}\n",
    "    bias = np.ones((N,1))\n",
    "    controversiality_vec = np.zeros((N,1))\n",
    "    is_root_vec = np.zeros((N,1))\n",
    "    children_vec = np.zeros((N,1))\n",
    "    Y = np.zeros((N,1))\n",
    "    X_words_count = np.zeros((N,no_txt_features))\n",
    "    offensive_count = np.zeros((N,1))\n",
    "    http_count = np.zeros((N,1))\n",
    "    positive_sentiments = np.zeros((N,1))\n",
    "    negative_sentiments = np.zeros((N,1))\n",
    "    \n",
    "    for i in range(N):\n",
    "        for key,val in dataset[i].items():\n",
    "            if key == 'text':\n",
    "                preprocessed_text = text_prep(val)\n",
    "                All_comments[i] = preprocessed_text\n",
    "                for x in preprocessed_text:\n",
    "                    if x not in Words_Dict.keys():\n",
    "                        Words_Dict[x] = 0\n",
    "                    Words_Dict[x] += 1\n",
    "            \n",
    "            elif key == 'is_root':\n",
    "                if val:\n",
    "                    is_root_vec[i] = 1\n",
    "                else:\n",
    "                    is_root_vec[i] = 0\n",
    "\n",
    "            elif key == 'controversiality':\n",
    "                controversiality_vec[i] = val\n",
    "            \n",
    "            elif key == 'children':\n",
    "                children_vec[i] = val\n",
    "            \n",
    "            elif key == 'popularity_score':\n",
    "                Y[i] = val\n",
    "\n",
    "# Now we need to sort out from most-frequent to least-frequent words in dictionary to obtain the first N words\n",
    "    if no_txt_features == 0 :\n",
    "        \n",
    "        X1 = np.append(children_vec,controversiality_vec,axis=1)\n",
    "        X1 = np.append(X1,is_root_vec,axis=1)        \n",
    "        X = np.append(X1,bias,axis=1)\n",
    "        \n",
    "    else:\n",
    "        Words_Dict_Sorted = sorted(Words_Dict.items(), key = lambda t: t[1], reverse=True)\n",
    "        Most_Freq_Words_Dict = dict(list(Words_Dict_Sorted[:no_txt_features]))\n",
    "        Most_Freq_Words = list(Most_Freq_Words_Dict.keys())\n",
    "        \n",
    "# Now we need to count the frequency of most frequent words in each comment throughout the whole dataset\n",
    "                \n",
    "        # Most-Frequent words\n",
    "        for i in range(N):\n",
    "            for j in range(no_txt_features):  \n",
    "                X_words_count[i,j] = All_comments[i].count(Most_Freq_Words[j])     \n",
    "        \n",
    "        # Offensive and HTTP-containing comments\n",
    "        \n",
    "        for i in range(N):\n",
    "            for x in All_comments[i]:\n",
    "                if x.find('http') or x.find('www.') != -1 :\n",
    "                    http_count[i] = 1\n",
    "                \n",
    "                for l in range(len(positive_sentiments_list)):\n",
    "                    if x.find(positive_sentiments_list[l]) != -1 :\n",
    "                        positive_sentiments[i] += 1\n",
    "                \n",
    "                for l in range(len(negative_sentiments_list)):\n",
    "                    if x.find(negative_sentiments_list[l]) != -1 :\n",
    "                        negative_sentiments[i] += 1\n",
    "                        \n",
    "            for j in range(len(offensive_words_list)):  \n",
    "                offensive_count[i] += All_comments[i].count(offensive_words_list[j])\n",
    "            \n",
    "        for j in range(len(offensive_words_list)):  \n",
    "            if offensive_count[i] > 0:\n",
    "                offensive_count[i] = 1\n",
    "        \n",
    "        \n",
    "        # Positive or negative sentiments\n",
    "        \n",
    "        X1 = np.append(X_words_count,controversiality_vec,axis=1)\n",
    "        X1 = np.append(X1,is_root_vec,axis=1)\n",
    "        X1 = np.append(X1,children_vec,axis=1)\n",
    "        X1 = np.append(X1,offensive_count,axis=1)\n",
    "        X1 = np.append(X1,http_count,axis=1)\n",
    "        X1 = np.append(X1,positive_sentiments,axis=1)\n",
    "        X1 = np.append(X1,negative_sentiments,axis=1)\n",
    "        \n",
    "        # Data Rescaling\n",
    "        \n",
    "        for i in range(X1.shape[1]):\n",
    "            mean = np.mean(X1[:,i])\n",
    "            var = np.var(X1[:,i])\n",
    "            X1[:,i] = (1 / np.sqrt(var)) * (X1[:,i] - mean)\n",
    "        \n",
    "        X = np.append(X1,bias,axis=1)       \n",
    "        \n",
    "    return X, Y, Most_Freq_Words_Dict"
   ]
  },
  {
   "cell_type": "code",
   "execution_count": 267,
   "metadata": {},
   "outputs": [],
   "source": [
    "# Least-Square estimation\n",
    "\n",
    "def Least_Squares_Estimation(X,Y):\n",
    "    X_T = (X.T).dot(X)\n",
    "    X_T_inv = np.linalg.inv(X_T)\n",
    "    X_Y = (X.T).dot(Y)\n",
    "    w_hat = np.dot(X_T_inv, X_Y)\n",
    "\n",
    "    return w_hat"
   ]
  },
  {
   "cell_type": "code",
   "execution_count": 268,
   "metadata": {},
   "outputs": [],
   "source": [
    "# Gradient Descent\n",
    "def Gradient_Descent(X, Y, W0, B, E, eps):\n",
    "    \n",
    "    eta0 = E\n",
    "    beta = B\n",
    "    epsilon = eps\n",
    "    w0 = W0\n",
    "    mse = np.zeros(100000000) # some big number for number of epochs\n",
    "    X_T = np.dot(X.T, X)\n",
    "    X_Y = np.dot(X.T, Y)\n",
    "    alpha = eta0 / ( 1 + beta )\n",
    "    w_gd = w0 - 2 * alpha * (np.subtract(np.dot(X_T,w0), X_Y))\n",
    "    diff = np.linalg.norm(np.subtract(w_gd,w0))\n",
    "    epoch = 0\n",
    "    mse[epoch] = Mean_Square_Error(X, Y, w_gd)\n",
    "    \n",
    "    while diff > epsilon:\n",
    "        w0 = w_gd\n",
    "        alpha =  eta0 / (1 + beta * (epoch + 1))\n",
    "        w_gd = w0 - 2 * alpha * np.subtract((X_T).dot(w0), X_Y)\n",
    "        diff = np.linalg.norm(np.subtract(w_gd, w0))\n",
    "        epoch +=1\n",
    "        mse[epoch] = Mean_Square_Error(X, Y, w_gd)\n",
    "    \n",
    "    MSE = np.delete(mse, np.s_[epoch + 1 : len(mse) + 1]) # Removing zero-valued MSE at the end\n",
    "    \n",
    "    return w_gd, MSE"
   ]
  },
  {
   "cell_type": "code",
   "execution_count": 269,
   "metadata": {},
   "outputs": [],
   "source": [
    "# MSE\n",
    "def Mean_Square_Error(X, Y, w_hat):\n",
    "    prediction = np.dot(X,w_hat)\n",
    "    abs_err = np.subtract(Y,prediction)\n",
    "    squared_err = np.square(abs_err)\n",
    "    MSE = (1/X.shape[0]) * np.sum(squared_err)  \n",
    "    return MSE"
   ]
  },
  {
   "cell_type": "code",
   "execution_count": 270,
   "metadata": {},
   "outputs": [],
   "source": [
    "# Visualisations\n",
    "def lineplot(x_data, y_data, x_label=\"\", y_label=\"\", title=\"\", gcolor=\"\"):\n",
    "    # Create the plot object    \n",
    "    \n",
    "    # Plot the best fit line, set the linewidth (lw), color and\n",
    "    # transparency (alpha) of the line\n",
    "    plt.plot(x_data, y_data, lw = 2, color = gcolor, alpha = 1)\n",
    "    \n",
    "    # Label the axes and provide a title\n",
    "    plt.title(title)\n",
    "    plt.xlabel(x_label)\n",
    "    plt.ylabel(y_label)\n",
    "    "
   ]
  },
  {
   "cell_type": "code",
   "execution_count": 327,
   "metadata": {},
   "outputs": [
    {
     "name": "stdout",
     "output_type": "stream",
     "text": [
      "MSE for LS on Training set is: 1.0452516646873893 which took: 13.970136642456055 ms\n",
      "Final MSE for GD on Training set at 4402's epoch is :1.0452517672030792 which took: 2437.9935264587402 ms\n",
      "MSE for LS on Validation set is: 1.036421488915833\n",
      "Final MSE for GD on Validation set is :1.0363143038778946\n"
     ]
    }
   ],
   "source": [
    "# Performance Evaluation\n",
    "no_text_features = 160\n",
    "Eta0 = 1e-6\n",
    "Beta0 = 0.0001\n",
    "epsilon = 1e-6\n",
    "X,Y,most_freq_words = Feature_Matrix(train_data, no_text_features)\n",
    "W0 = weights_init(X.shape[1], True) # All_zero weights initialization if True\n",
    "\n",
    "start1 = time.time()\n",
    "W_LS = Least_Squares_Estimation(X, Y)\n",
    "MSE_LS_training = Mean_Square_Error(X, Y, W_LS)\n",
    "end1 = time.time()\n",
    "\n",
    "print(\"MSE for LS on Training set is: \" + str(MSE_LS_training) + \" which took: \" + str((end1-start1) * 1000) + \" ms\" + \"\")\n",
    "\n",
    "start2 = time.time()\n",
    "W_GD, MSE_GD_training = Gradient_Descent(X, Y, W0, Beta0, Eta0, epsilon)\n",
    "end2 = time.time()\n",
    "print(\"Final MSE for GD on Training set at \" + str(len(MSE_GD_training)) + \"'s epoch is :\" + str(MSE_GD_training[-1]) +\n",
    "     \" which took: \" + str((end2-start2) * 1000) + \" ms\" + \"\")\n",
    "\n",
    "\n",
    "# Run on Validation dataset\n",
    "\n",
    "X_validation, Y_validation, _ = Feature_Matrix(validation_data, no_text_features)\n",
    "\n",
    "MSE_LS_validation = Mean_Square_Error(X_validation, Y_validation, W_LS)\n",
    "\n",
    "print(\"MSE for LS on Validation set is: \" + str(MSE_LS_validation))\n",
    "\n",
    "MSE_GD_validation = Mean_Square_Error(X_validation, Y_validation, W_GD)\n",
    "\n",
    "print(\"Final MSE for GD on Validation set is :\" + str(MSE_GD_validation))\n"
   ]
  },
  {
   "cell_type": "code",
   "execution_count": 328,
   "metadata": {},
   "outputs": [
    {
     "name": "stdout",
     "output_type": "stream",
     "text": [
      "{'the': 9250, 'i': 6132, 'a': 5914, 'to': 5880, 'and': 5664, 'of': 4101, 'that': 3073, 'you': 3050, 'it': 3035, 'in': 2922, 'is': 2380, 'was': 2377, 'my': 2264, 'for': 2019, 'have': 1675, 'but': 1635, 'this': 1550, 'with': 1485, 'on': 1418, 'not': 1361, 'be': 1251, 'just': 1215, 'or': 1195, 'so': 1165, 'they': 1160, 'like': 1151, 'if': 1137, 'your': 1135, 'me': 1112, 'are': 1051, 'at': 1020, 'as': 963, 'he': 955, \"it's\": 864, 'about': 839, 'she': 831, \"i'm\": 823, 'all': 819, 'when': 802, 'we': 794, 'out': 794, 'her': 784, 'because': 771, 'from': 750, 'would': 738, 'get': 731, \"don't\": 725, 'up': 723, 'what': 719, 'one': 713, 'had': 703, 'people': 697, 'do': 668, 'can': 666, 'an': 643, 'deleted': 626, 'there': 606, 'no': 544, 'some': 536, 'really': 533, 'any': 524, 'how': 511, 'his': 497, 'then': 495, 'think': 477, 'more': 470, 'them': 465, 'time': 455, 'go': 453, 'their': 449, 'were': 444, 'who': 440, 'will': 435, 'know': 427, 'by': 413, 'has': 407, 'only': 397, 'good': 390, 'new': 382, \"you're\": 381, 'been': 380, 'got': 379, 'it.': 379, 'even': 378, 'after': 372, 'him': 368, 'make': 368, 'never': 363, 'please': 354, 'am': 349, 'did': 349, 'still': 348, 'something': 346, 'than': 346, \"that's\": 334, 'much': 330, 'being': 330, 'into': 326, 'other': 320, 'going': 316, \"didn't\": 316, 'way': 315, 'post': 310, 'first': 309, 'could': 306, 'removed': 303, 'also': 301, 'now': 280, 'want': 280, 'say': 280, 'where': 278, 'over': 277, 'why': 275, \"can't\": 265, 'see': 265, 'most': 264, 'back': 260, 'too': 260, 'shit': 258, 'season': 252, 'show': 252, 'pretty': 251, 'friends': 250, 'love': 247, 'very': 247, 'always': 247, 'life': 244, 'made': 243, 'questions': 242, 'years': 241, 'before': 239, 'our': 238, \"i've\": 238, 'contact': 235, 'off': 235, 'every': 234, 'which': 234, 'right': 232, 'fuck': 227, 'actually': 226, 'well': 224, 'fucking': 223, 'moderators': 222, 'things': 222, 'thing': 219, 'here': 216, 'lot': 214, 'question': 214, 'feel': 210, 'same': 209, 'its': 207, 'said': 207, 'bad': 204, 'use': 204, 'should': 203, 'work': 201, 'action': 200, 'while': 200, 'few': 200, \"doesn't\": 199}\n"
     ]
    }
   ],
   "source": [
    "print(most_freq_words)"
   ]
  },
  {
   "cell_type": "code",
   "execution_count": 235,
   "metadata": {},
   "outputs": [
    {
     "name": "stdout",
     "output_type": "stream",
     "text": [
      "Number of text features: 0\n",
      "MSE for LS on Training set is: 1.0846830709157251 which took: 0.0 ms\n",
      "Final MSE for GD on Training set at 43323's epoch is :1.0846892312314529 which took: 2132.9681873321533 ms\n",
      " \n",
      "MSE for LS on Validation set is: 1.020326684843145\n",
      "Final MSE for GD on Validation set is :1.0204268695519987\n",
      " \n",
      "Number of text features: 1\n"
     ]
    },
    {
     "ename": "KeyboardInterrupt",
     "evalue": "",
     "output_type": "error",
     "traceback": [
      "\u001b[1;31m---------------------------------------------------------------------------\u001b[0m",
      "\u001b[1;31mKeyboardInterrupt\u001b[0m                         Traceback (most recent call last)",
      "\u001b[1;32m<ipython-input-235-3158ee9f925d>\u001b[0m in \u001b[0;36m<module>\u001b[1;34m\u001b[0m\n\u001b[0;32m     11\u001b[0m     \u001b[0mno_text_features\u001b[0m \u001b[1;33m=\u001b[0m \u001b[0mnumber_text_features\u001b[0m\u001b[1;33m[\u001b[0m\u001b[0mi\u001b[0m\u001b[1;33m]\u001b[0m\u001b[1;33m\u001b[0m\u001b[1;33m\u001b[0m\u001b[0m\n\u001b[0;32m     12\u001b[0m     \u001b[0mprint\u001b[0m\u001b[1;33m(\u001b[0m\u001b[1;34m\"Number of text features: \"\u001b[0m \u001b[1;33m+\u001b[0m \u001b[0mstr\u001b[0m\u001b[1;33m(\u001b[0m\u001b[0mno_text_features\u001b[0m\u001b[1;33m)\u001b[0m\u001b[1;33m)\u001b[0m\u001b[1;33m\u001b[0m\u001b[1;33m\u001b[0m\u001b[0m\n\u001b[1;32m---> 13\u001b[1;33m     \u001b[0mX\u001b[0m\u001b[1;33m,\u001b[0m\u001b[0mY\u001b[0m \u001b[1;33m=\u001b[0m \u001b[0mFeature_Matrix\u001b[0m\u001b[1;33m(\u001b[0m\u001b[0mtrain_data\u001b[0m\u001b[1;33m,\u001b[0m \u001b[0mno_text_features\u001b[0m\u001b[1;33m)\u001b[0m\u001b[1;33m\u001b[0m\u001b[1;33m\u001b[0m\u001b[0m\n\u001b[0m\u001b[0;32m     14\u001b[0m     \u001b[0mW0\u001b[0m \u001b[1;33m=\u001b[0m \u001b[0mweights_init\u001b[0m\u001b[1;33m(\u001b[0m\u001b[0mX\u001b[0m\u001b[1;33m.\u001b[0m\u001b[0mshape\u001b[0m\u001b[1;33m[\u001b[0m\u001b[1;36m1\u001b[0m\u001b[1;33m]\u001b[0m\u001b[1;33m,\u001b[0m \u001b[1;32mTrue\u001b[0m\u001b[1;33m)\u001b[0m \u001b[1;31m# All_zero weights initialization if True\u001b[0m\u001b[1;33m\u001b[0m\u001b[1;33m\u001b[0m\u001b[0m\n\u001b[0;32m     15\u001b[0m \u001b[1;33m\u001b[0m\u001b[0m\n",
      "\u001b[1;32m<ipython-input-230-474efc376249>\u001b[0m in \u001b[0;36mFeature_Matrix\u001b[1;34m(dataset, no_txt_features)\u001b[0m\n\u001b[0;32m     84\u001b[0m \u001b[1;33m\u001b[0m\u001b[0m\n\u001b[0;32m     85\u001b[0m                 \u001b[1;32mfor\u001b[0m \u001b[0ml\u001b[0m \u001b[1;32min\u001b[0m \u001b[0mrange\u001b[0m\u001b[1;33m(\u001b[0m\u001b[0mlen\u001b[0m\u001b[1;33m(\u001b[0m\u001b[0mpositive_sentiments_list\u001b[0m\u001b[1;33m)\u001b[0m\u001b[1;33m)\u001b[0m\u001b[1;33m:\u001b[0m\u001b[1;33m\u001b[0m\u001b[1;33m\u001b[0m\u001b[0m\n\u001b[1;32m---> 86\u001b[1;33m                     \u001b[1;32mif\u001b[0m \u001b[0mx\u001b[0m\u001b[1;33m.\u001b[0m\u001b[0mfind\u001b[0m\u001b[1;33m(\u001b[0m\u001b[0mpositive_sentiments_list\u001b[0m\u001b[1;33m[\u001b[0m\u001b[0ml\u001b[0m\u001b[1;33m]\u001b[0m\u001b[1;33m)\u001b[0m \u001b[1;33m!=\u001b[0m \u001b[1;33m-\u001b[0m\u001b[1;36m1\u001b[0m \u001b[1;33m:\u001b[0m\u001b[1;33m\u001b[0m\u001b[1;33m\u001b[0m\u001b[0m\n\u001b[0m\u001b[0;32m     87\u001b[0m                         \u001b[0mpositive_sentiments\u001b[0m\u001b[1;33m[\u001b[0m\u001b[0mi\u001b[0m\u001b[1;33m]\u001b[0m \u001b[1;33m+=\u001b[0m \u001b[1;36m1\u001b[0m\u001b[1;33m\u001b[0m\u001b[1;33m\u001b[0m\u001b[0m\n\u001b[0;32m     88\u001b[0m \u001b[1;33m\u001b[0m\u001b[0m\n",
      "\u001b[1;31mKeyboardInterrupt\u001b[0m: "
     ]
    }
   ],
   "source": [
    "# Performance Evaluation for a range of number_of_features in order to identify best model\n",
    "\n",
    "number_text_features = np.arange(0,161)\n",
    "Eta0 = 1e-6\n",
    "Beta0 = 0.0001\n",
    "epsilon = 1e-6\n",
    "result_train = np.zeros((len(number_text_features),2))\n",
    "result_valid = np.zeros((len(number_text_features),2))\n",
    "\n",
    "\n",
    "for i in range(len(number_text_features)):\n",
    "    no_text_features = number_text_features[i]\n",
    "    print(\"Number of text features: \" + str(no_text_features))\n",
    "    X,Y,_ = Feature_Matrix(train_data, no_text_features)\n",
    "    W0 = weights_init(X.shape[1], True) # All_zero weights initialization if True\n",
    "\n",
    "    start1 = time.time()\n",
    "    W_LS = Least_Squares_Estimation(X, Y)\n",
    "    MSE_LS_training = Mean_Square_Error(X, Y, W_LS)\n",
    "    end1 = time.time()\n",
    "    print(\"MSE for LS on Training set is: \" + str(MSE_LS_training) + \" which took: \" + str((end1-start1) * 1000) + \" ms\" + \"\")\n",
    "\n",
    "    start2 = time.time()\n",
    "    W_GD, MSE_GD_training = Gradient_Descent(X, Y, W0, Beta0, Eta0, epsilon)\n",
    "    end2 = time.time()\n",
    "    print(\"Final MSE for GD on Training set at \" + str(len(MSE_GD_training)) + \"'s epoch is :\" + str(MSE_GD_training[-1]) +\n",
    "         \" which took: \" + str((end2-start2) * 1000) + \" ms\" + \"\")\n",
    "    print(\" \")\n",
    "    result_train[i,0] = MSE_LS_training\n",
    "    result_train[i,1] = MSE_GD_training[-1]\n",
    "\n",
    "    # Run on Validation dataset\n",
    "    X_validation, Y_validation,_ = Feature_Matrix(validation_data, no_text_features)\n",
    "\n",
    "    MSE_LS_validation = Mean_Square_Error(X_validation, Y_validation, W_LS)\n",
    "\n",
    "    print(\"MSE for LS on Validation set is: \" + str(MSE_LS_validation))\n",
    "\n",
    "    MSE_GD_validation = Mean_Square_Error(X_validation, Y_validation, W_GD)\n",
    "\n",
    "    print(\"Final MSE for GD on Validation set is :\" + str(MSE_GD_validation))\n",
    "    print(\" \")\n",
    "\n",
    "    result_valid[i,0] = MSE_LS_validation\n",
    "    result_valid[i,1] = MSE_GD_validation"
   ]
  },
  {
   "cell_type": "code",
   "execution_count": 311,
   "metadata": {},
   "outputs": [
    {
     "name": "stdout",
     "output_type": "stream",
     "text": [
      "MSE for LS on Test set is: 1.2707377671901572\n",
      "MSE for GD on Test set is :1.2707013325581547\n"
     ]
    }
   ],
   "source": [
    "# Run on Test dataset\n",
    "\n",
    "# no_text_features = 0\n",
    "X_test, Y_test,_ = Feature_Matrix(test_data, no_text_features)\n",
    "\n",
    "MSE_LS_Test = Mean_Square_Error(X_test, Y_test, W_LS)\n",
    "\n",
    "print(\"MSE for LS on Test set is: \" + str(MSE_LS_Test))\n",
    "\n",
    "MSE_GD_validation = Mean_Square_Error(X_test, Y_test, W_GD)\n",
    "\n",
    "print(\"MSE for GD on Test set is :\" + str(MSE_GD_validation))"
   ]
  },
  {
   "cell_type": "code",
   "execution_count": 306,
   "metadata": {},
   "outputs": [
    {
     "data": {
      "image/png": "[encoded data removed]",
      "text/plain": [
       "<Figure size 432x288 with 1 Axes>"
      ]
     },
     "metadata": {
      "needs_background": "light"
     },
     "output_type": "display_data"
    }
   ],
   "source": [
    "\n",
    "lineplot(range(MSE_GD_training.shape[0]), MSE_GD_training, \n",
    "         x_label=\"epochs\", y_label=\"MSE\", title=\"Gradient Descent for Training set\", gcolor='b')\n",
    "# lineplot(range(MSE_GD_training.shape[0]), MSE_GD_validation, \n",
    "#          x_label=\"epochs\", y_label=\"MSE\", title=\"Gradient Descent\", gcolor='r')\n"
   ]
  }
 ],
 "metadata": {
  "kernelspec": {
   "display_name": "Python 3",
   "language": "python",
   "name": "python3"
  },
  "language_info": {
   "codemirror_mode": {
    "name": "ipython",
    "version": 3
   },
   "file_extension": ".py",
   "mimetype": "text/x-python",
   "name": "python",
   "nbconvert_exporter": "python",
   "pygments_lexer": "ipython3",
   "version": "3.7.1"
  }
 },
 "nbformat": 4,
 "nbformat_minor": 2
}
